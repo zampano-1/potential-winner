{
 "cells": [
  {
   "cell_type": "code",
   "execution_count": 1,
   "metadata": {},
   "outputs": [],
   "source": [
    "dict_fuirts = {'apple':'사과','banana':'바나나','watermelon':'수박'}\n",
    "for item in dict_fuirts:\n",
    "    print(item)"
   ]
  },
  {
   "cell_type": "code",
   "execution_count": 6,
   "metadata": {},
   "outputs": [
    {
     "name": "stdout",
     "output_type": "stream",
     "text": [
      "안녕하세요. 저의 이름은 홍길동이고, 나이는 20살 입니다.\n"
     ]
    }
   ],
   "source": [
    "def introduce(name, age):\n",
    "    print('안녕하세요. 저의 이름은 ' + name + '이고, 나이는 ' + str(age) + '살 입니다.')\n",
    "\n",
    "introduce('홍길동', '20')"
   ]
  },
  {
   "cell_type": "code",
   "execution_count": 20,
   "metadata": {},
   "outputs": [
    {
     "name": "stdout",
     "output_type": "stream",
     "text": [
      "반지름이 5.0cm인 원의 면적: 78.54 cm²\n"
     ]
    }
   ],
   "source": [
    "def circle_area(r):\n",
    "    pi = 3.141592\n",
    "    return pi * r ** 2\n",
    "\n",
    "def main():\n",
    "    r = float(input(\"원의 반지름을 입력하세요 (cm): \"))\n",
    "    area = circle_area(r)\n",
    "    print(f\"반지름이 {r}cm인 원의 면적: {round(area, 2)} cm²\")\n",
    "\n",
    "if __name__ == \"__main__\":\n",
    "    main()"
   ]
  },
  {
   "cell_type": "code",
   "execution_count": 1,
   "metadata": {},
   "outputs": [
    {
     "name": "stdout",
     "output_type": "stream",
     "text": [
      "0\n",
      "홀수\n",
      "짝수\n"
     ]
    }
   ],
   "source": [
    "def is_odd_even(n):\n",
    "    if n==0: result=0\n",
    "    elif n%2==0: result='짝수'\n",
    "    else: result='홀수'\n",
    "    return result\n",
    " \n",
    "print(is_odd_even(0))\n",
    "print(is_odd_even(1))\n",
    "print(is_odd_even(2))"
   ]
  }
 ],
 "metadata": {
  "kernelspec": {
   "display_name": "Python 3",
   "language": "python",
   "name": "python3"
  },
  "language_info": {
   "codemirror_mode": {
    "name": "ipython",
    "version": 3
   },
   "file_extension": ".py",
   "mimetype": "text/x-python",
   "name": "python",
   "nbconvert_exporter": "python",
   "pygments_lexer": "ipython3",
   "version": "3.10.13"
  }
 },
 "nbformat": 4,
 "nbformat_minor": 2
}
