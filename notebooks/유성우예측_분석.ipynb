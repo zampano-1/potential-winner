{
 "cells": [
  {
   "cell_type": "code",
   "execution_count": null,
   "metadata": {},
   "outputs": [],
   "source": []
  },
  {
   "cell_type": "code",
   "execution_count": 9,
   "metadata": {},
   "outputs": [
    {
     "data": {
      "text/html": [
       "<div>\n",
       "<style scoped>\n",
       "    .dataframe tbody tr th:only-of-type {\n",
       "        vertical-align: middle;\n",
       "    }\n",
       "\n",
       "    .dataframe tbody tr th {\n",
       "        vertical-align: top;\n",
       "    }\n",
       "\n",
       "    .dataframe thead th {\n",
       "        text-align: right;\n",
       "    }\n",
       "</style>\n",
       "<table border=\"1\" class=\"dataframe\">\n",
       "  <thead>\n",
       "    <tr style=\"text-align: right;\">\n",
       "      <th></th>\n",
       "      <th>name</th>\n",
       "      <th>radiant</th>\n",
       "      <th>bestmonth</th>\n",
       "      <th>startmonth</th>\n",
       "      <th>startday</th>\n",
       "      <th>endmonth</th>\n",
       "      <th>endday</th>\n",
       "      <th>hemisphere</th>\n",
       "      <th>preferredhemisphere</th>\n",
       "      <th>startdate</th>\n",
       "      <th>enddate</th>\n",
       "    </tr>\n",
       "  </thead>\n",
       "  <tbody>\n",
       "    <tr>\n",
       "      <th>0</th>\n",
       "      <td>Lyrids</td>\n",
       "      <td>Lyra</td>\n",
       "      <td>4</td>\n",
       "      <td>4</td>\n",
       "      <td>21</td>\n",
       "      <td>4</td>\n",
       "      <td>22</td>\n",
       "      <td>northern</td>\n",
       "      <td>northern</td>\n",
       "      <td>2020-04-21</td>\n",
       "      <td>2020-04-22</td>\n",
       "    </tr>\n",
       "    <tr>\n",
       "      <th>1</th>\n",
       "      <td>Eta Aquarids</td>\n",
       "      <td>Aquarius</td>\n",
       "      <td>5</td>\n",
       "      <td>4</td>\n",
       "      <td>19</td>\n",
       "      <td>5</td>\n",
       "      <td>28</td>\n",
       "      <td>northern, southern</td>\n",
       "      <td>southern</td>\n",
       "      <td>2020-04-19</td>\n",
       "      <td>2020-05-28</td>\n",
       "    </tr>\n",
       "  </tbody>\n",
       "</table>\n",
       "</div>"
      ],
      "text/plain": [
       "           name   radiant  bestmonth  startmonth  startday  endmonth  endday  \\\n",
       "0        Lyrids      Lyra          4           4        21         4      22   \n",
       "1  Eta Aquarids  Aquarius          5           4        19         5      28   \n",
       "\n",
       "           hemisphere preferredhemisphere  startdate    enddate  \n",
       "0            northern            northern 2020-04-21 2020-04-22  \n",
       "1  northern, southern            southern 2020-04-19 2020-05-28  "
      ]
     },
     "metadata": {},
     "output_type": "display_data"
    },
    {
     "data": {
      "text/html": [
       "<div>\n",
       "<style scoped>\n",
       "    .dataframe tbody tr th:only-of-type {\n",
       "        vertical-align: middle;\n",
       "    }\n",
       "\n",
       "    .dataframe tbody tr th {\n",
       "        vertical-align: top;\n",
       "    }\n",
       "\n",
       "    .dataframe thead th {\n",
       "        text-align: right;\n",
       "    }\n",
       "</style>\n",
       "<table border=\"1\" class=\"dataframe\">\n",
       "  <thead>\n",
       "    <tr style=\"text-align: right;\">\n",
       "      <th></th>\n",
       "      <th>city</th>\n",
       "      <th>latitude</th>\n",
       "      <th>country</th>\n",
       "    </tr>\n",
       "  </thead>\n",
       "  <tbody>\n",
       "    <tr>\n",
       "      <th>0</th>\n",
       "      <td>Abu Dhabi</td>\n",
       "      <td>24.47</td>\n",
       "      <td>United Arab Emirates</td>\n",
       "    </tr>\n",
       "    <tr>\n",
       "      <th>1</th>\n",
       "      <td>Abuja</td>\n",
       "      <td>9.07</td>\n",
       "      <td>Nigeria</td>\n",
       "    </tr>\n",
       "  </tbody>\n",
       "</table>\n",
       "</div>"
      ],
      "text/plain": [
       "        city  latitude               country\n",
       "0  Abu Dhabi     24.47  United Arab Emirates\n",
       "1      Abuja      9.07               Nigeria"
      ]
     },
     "metadata": {},
     "output_type": "display_data"
    },
    {
     "data": {
      "text/html": [
       "<div>\n",
       "<style scoped>\n",
       "    .dataframe tbody tr th:only-of-type {\n",
       "        vertical-align: middle;\n",
       "    }\n",
       "\n",
       "    .dataframe tbody tr th {\n",
       "        vertical-align: top;\n",
       "    }\n",
       "\n",
       "    .dataframe thead th {\n",
       "        text-align: right;\n",
       "    }\n",
       "</style>\n",
       "<table border=\"1\" class=\"dataframe\">\n",
       "  <thead>\n",
       "    <tr style=\"text-align: right;\">\n",
       "      <th></th>\n",
       "      <th>constellation</th>\n",
       "      <th>bestmonth</th>\n",
       "      <th>latitudestart</th>\n",
       "      <th>latitudeend</th>\n",
       "      <th>hemisphere</th>\n",
       "    </tr>\n",
       "  </thead>\n",
       "  <tbody>\n",
       "    <tr>\n",
       "      <th>0</th>\n",
       "      <td>Lyra</td>\n",
       "      <td>8</td>\n",
       "      <td>90</td>\n",
       "      <td>-40</td>\n",
       "      <td>northern</td>\n",
       "    </tr>\n",
       "    <tr>\n",
       "      <th>1</th>\n",
       "      <td>Aquarius</td>\n",
       "      <td>10</td>\n",
       "      <td>65</td>\n",
       "      <td>-90</td>\n",
       "      <td>southern</td>\n",
       "    </tr>\n",
       "  </tbody>\n",
       "</table>\n",
       "</div>"
      ],
      "text/plain": [
       "  constellation  bestmonth  latitudestart  latitudeend hemisphere\n",
       "0          Lyra          8             90          -40   northern\n",
       "1      Aquarius         10             65          -90   southern"
      ]
     },
     "metadata": {},
     "output_type": "display_data"
    },
    {
     "data": {
      "text/html": [
       "<div>\n",
       "<style scoped>\n",
       "    .dataframe tbody tr th:only-of-type {\n",
       "        vertical-align: middle;\n",
       "    }\n",
       "\n",
       "    .dataframe tbody tr th {\n",
       "        vertical-align: top;\n",
       "    }\n",
       "\n",
       "    .dataframe thead th {\n",
       "        text-align: right;\n",
       "    }\n",
       "</style>\n",
       "<table border=\"1\" class=\"dataframe\">\n",
       "  <thead>\n",
       "    <tr style=\"text-align: right;\">\n",
       "      <th></th>\n",
       "      <th>date</th>\n",
       "      <th>percentage</th>\n",
       "    </tr>\n",
       "  </thead>\n",
       "  <tbody>\n",
       "    <tr>\n",
       "      <th>0</th>\n",
       "      <td>2020-01-01</td>\n",
       "      <td>0.0</td>\n",
       "    </tr>\n",
       "    <tr>\n",
       "      <th>1</th>\n",
       "      <td>2020-01-02</td>\n",
       "      <td>0.5</td>\n",
       "    </tr>\n",
       "  </tbody>\n",
       "</table>\n",
       "</div>"
      ],
      "text/plain": [
       "        date  percentage\n",
       "0 2020-01-01         0.0\n",
       "1 2020-01-02         0.5"
      ]
     },
     "metadata": {},
     "output_type": "display_data"
    },
    {
     "name": "stdout",
     "output_type": "stream",
     "text": [
      "<class 'pandas.core.frame.DataFrame'>\n",
      "RangeIndex: 5 entries, 0 to 4\n",
      "Data columns (total 11 columns):\n",
      " #   Column               Non-Null Count  Dtype         \n",
      "---  ------               --------------  -----         \n",
      " 0   name                 5 non-null      object        \n",
      " 1   radiant              5 non-null      object        \n",
      " 2   bestmonth            5 non-null      int64         \n",
      " 3   startmonth           5 non-null      int64         \n",
      " 4   startday             5 non-null      int64         \n",
      " 5   endmonth             5 non-null      int64         \n",
      " 6   endday               5 non-null      int64         \n",
      " 7   hemisphere           5 non-null      object        \n",
      " 8   preferredhemisphere  5 non-null      object        \n",
      " 9   startdate            5 non-null      datetime64[ns]\n",
      " 10  enddate              5 non-null      datetime64[ns]\n",
      "dtypes: datetime64[ns](2), int64(5), object(4)\n",
      "memory usage: 568.0+ bytes\n"
     ]
    },
    {
     "data": {
      "text/plain": [
       "None"
      ]
     },
     "metadata": {},
     "output_type": "display_data"
    },
    {
     "name": "stdout",
     "output_type": "stream",
     "text": [
      "<class 'pandas.core.frame.DataFrame'>\n",
      "RangeIndex: 5 entries, 0 to 4\n",
      "Data columns (total 5 columns):\n",
      " #   Column         Non-Null Count  Dtype \n",
      "---  ------         --------------  ----- \n",
      " 0   constellation  5 non-null      object\n",
      " 1   bestmonth      5 non-null      int64 \n",
      " 2   latitudestart  5 non-null      int64 \n",
      " 3   latitudeend    5 non-null      int64 \n",
      " 4   hemisphere     5 non-null      object\n",
      "dtypes: int64(3), object(2)\n",
      "memory usage: 328.0+ bytes\n"
     ]
    },
    {
     "data": {
      "text/plain": [
       "None"
      ]
     },
     "metadata": {},
     "output_type": "display_data"
    },
    {
     "name": "stdout",
     "output_type": "stream",
     "text": [
      "<class 'pandas.core.frame.DataFrame'>\n",
      "RangeIndex: 366 entries, 0 to 365\n",
      "Data columns (total 2 columns):\n",
      " #   Column      Non-Null Count  Dtype         \n",
      "---  ------      --------------  -----         \n",
      " 0   date        366 non-null    datetime64[ns]\n",
      " 1   percentage  366 non-null    float64       \n",
      "dtypes: datetime64[ns](1), float64(1)\n",
      "memory usage: 5.8 KB\n"
     ]
    },
    {
     "data": {
      "text/plain": [
       "None"
      ]
     },
     "metadata": {},
     "output_type": "display_data"
    },
    {
     "name": "stdout",
     "output_type": "stream",
     "text": [
      "<class 'pandas.core.frame.DataFrame'>\n",
      "RangeIndex: 256 entries, 0 to 255\n",
      "Data columns (total 3 columns):\n",
      " #   Column    Non-Null Count  Dtype  \n",
      "---  ------    --------------  -----  \n",
      " 0   city      256 non-null    object \n",
      " 1   latitude  256 non-null    float64\n",
      " 2   country   256 non-null    object \n",
      "dtypes: float64(1), object(2)\n",
      "memory usage: 6.1+ KB\n"
     ]
    },
    {
     "data": {
      "text/plain": [
       "None"
      ]
     },
     "metadata": {},
     "output_type": "display_data"
    }
   ],
   "source": [
    "import pandas as pd\n",
    "path = '/workspaces/codespaces-jupyter/data/preprocessed/'\n",
    "\n",
    "df_meteorshowers = pd.read_csv(path+'meteorshowers_preprocessed.csv', parse_dates=['startdate','enddate'])\n",
    "df_constellations = pd.read_csv(path+'constellations_preprocessed.csv')\n",
    "df_moonphases = pd.read_csv(path+'moonphases_preprocessed.csv', parse_dates=['date'])\n",
    "df_cities = pd.read_csv('/workspaces/codespaces-jupyter/data/cities.csv')\n",
    "\n",
    "display(df_meteorshowers.head(2))\n",
    "display(df_cities.head(2))\n",
    "display(df_constellations.head(2))\n",
    "display(df_moonphases.head(2))\n",
    "\n",
    "display(df_meteorshowers.info())\n",
    "display(df_constellations.info())\n",
    "display(df_moonphases.info())\n",
    "display(df_cities.info())"
   ]
  },
  {
   "cell_type": "code",
   "execution_count": 19,
   "metadata": {},
   "outputs": [
    {
     "data": {
      "text/html": [
       "<div>\n",
       "<style scoped>\n",
       "    .dataframe tbody tr th:only-of-type {\n",
       "        vertical-align: middle;\n",
       "    }\n",
       "\n",
       "    .dataframe tbody tr th {\n",
       "        vertical-align: top;\n",
       "    }\n",
       "\n",
       "    .dataframe thead th {\n",
       "        text-align: right;\n",
       "    }\n",
       "</style>\n",
       "<table border=\"1\" class=\"dataframe\">\n",
       "  <thead>\n",
       "    <tr style=\"text-align: right;\">\n",
       "      <th></th>\n",
       "      <th>startdate</th>\n",
       "      <th>enddate</th>\n",
       "    </tr>\n",
       "  </thead>\n",
       "  <tbody>\n",
       "    <tr>\n",
       "      <th>1</th>\n",
       "      <td>2020-04-19</td>\n",
       "      <td>2020-05-28</td>\n",
       "    </tr>\n",
       "  </tbody>\n",
       "</table>\n",
       "</div>"
      ],
      "text/plain": [
       "   startdate    enddate\n",
       "1 2020-04-19 2020-05-28"
      ]
     },
     "execution_count": 19,
     "metadata": {},
     "output_type": "execute_result"
    }
   ],
   "source": [
    "cond1 = df_meteorshowers['bestmonth']==5\n",
    "df_meteorshowers.loc[cond1,['startdate','enddate']]"
   ]
  },
  {
   "cell_type": "code",
   "execution_count": 20,
   "metadata": {},
   "outputs": [
    {
     "data": {
      "text/html": [
       "<div>\n",
       "<style scoped>\n",
       "    .dataframe tbody tr th:only-of-type {\n",
       "        vertical-align: middle;\n",
       "    }\n",
       "\n",
       "    .dataframe tbody tr th {\n",
       "        vertical-align: top;\n",
       "    }\n",
       "\n",
       "    .dataframe thead th {\n",
       "        text-align: right;\n",
       "    }\n",
       "</style>\n",
       "<table border=\"1\" class=\"dataframe\">\n",
       "  <thead>\n",
       "    <tr style=\"text-align: right;\">\n",
       "      <th></th>\n",
       "      <th>constellation</th>\n",
       "      <th>bestmonth</th>\n",
       "      <th>latitudestart</th>\n",
       "      <th>latitudeend</th>\n",
       "      <th>hemisphere</th>\n",
       "    </tr>\n",
       "  </thead>\n",
       "  <tbody>\n",
       "    <tr>\n",
       "      <th>0</th>\n",
       "      <td>Lyra</td>\n",
       "      <td>8</td>\n",
       "      <td>90</td>\n",
       "      <td>-40</td>\n",
       "      <td>northern</td>\n",
       "    </tr>\n",
       "    <tr>\n",
       "      <th>1</th>\n",
       "      <td>Aquarius</td>\n",
       "      <td>10</td>\n",
       "      <td>65</td>\n",
       "      <td>-90</td>\n",
       "      <td>southern</td>\n",
       "    </tr>\n",
       "    <tr>\n",
       "      <th>2</th>\n",
       "      <td>Orion</td>\n",
       "      <td>1</td>\n",
       "      <td>85</td>\n",
       "      <td>-75</td>\n",
       "      <td>northern</td>\n",
       "    </tr>\n",
       "    <tr>\n",
       "      <th>3</th>\n",
       "      <td>Perseus</td>\n",
       "      <td>12</td>\n",
       "      <td>90</td>\n",
       "      <td>-35</td>\n",
       "      <td>northern</td>\n",
       "    </tr>\n",
       "  </tbody>\n",
       "</table>\n",
       "</div>"
      ],
      "text/plain": [
       "  constellation  bestmonth  latitudestart  latitudeend hemisphere\n",
       "0          Lyra          8             90          -40   northern\n",
       "1      Aquarius         10             65          -90   southern\n",
       "2         Orion          1             85          -75   northern\n",
       "3       Perseus         12             90          -35   northern"
      ]
     },
     "execution_count": 20,
     "metadata": {},
     "output_type": "execute_result"
    }
   ],
   "source": [
    "cond1 = df_constellations['latitudestart']>=37\n",
    "cond2 = df_constellations['latitudeend']<=37\n",
    "\n",
    "df_constellations.loc[cond1&cond2]"
   ]
  },
  {
   "cell_type": "code",
   "execution_count": 23,
   "metadata": {},
   "outputs": [
    {
     "data": {
      "text/plain": [
       "37.55"
      ]
     },
     "execution_count": 23,
     "metadata": {},
     "output_type": "execute_result"
    }
   ],
   "source": [
    "# 서울의 위도 찾기\n",
    "city_name = 'Seoul'\n",
    "\n",
    "cond = df_cities['city']==city_name\n",
    "df_cities.loc[cond,'latitude'].iloc[0]"
   ]
  },
  {
   "cell_type": "code",
   "execution_count": 27,
   "metadata": {},
   "outputs": [
    {
     "data": {
      "text/plain": [
       "37.55"
      ]
     },
     "execution_count": 27,
     "metadata": {},
     "output_type": "execute_result"
    }
   ],
   "source": [
    "def meteorshowers_bestdate(city_name):\n",
    "    cond = df_cities['city']==city_name\n",
    "    latitude = df_cities.loc[cond,'latitude'].iloc[0]\n",
    "    return latitude\n",
    " \n",
    "meteorshowers_bestdate('Seoul')"
   ]
  }
 ],
 "metadata": {
  "kernelspec": {
   "display_name": "Python 3",
   "language": "python",
   "name": "python3"
  },
  "language_info": {
   "codemirror_mode": {
    "name": "ipython",
    "version": 3
   },
   "file_extension": ".py",
   "mimetype": "text/x-python",
   "name": "python",
   "nbconvert_exporter": "python",
   "pygments_lexer": "ipython3",
   "version": "3.10.13"
  }
 },
 "nbformat": 4,
 "nbformat_minor": 2
}
